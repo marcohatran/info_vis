{
 "cells": [
  {
   "cell_type": "markdown",
   "metadata": {},
   "source": [
    "# Real-world Data Science: Applications of Visualizations\n",
    "## Zexi Han"
   ]
  },
  {
   "cell_type": "code",
   "execution_count": 1,
   "metadata": {},
   "outputs": [],
   "source": [
    "# load libraries\n",
    "import warnings\n",
    "warnings.filterwarnings('ignore')\n",
    "\n",
    "import string\n",
    "import pandas as pd\n",
    "import numpy as np\n",
    "import matplotlib.pyplot as plt\n",
    "%matplotlib inline\n",
    "%config InlineBackend.figure_format = 'retina'\n",
    "plt.rcParams['figure.figsize'] = (16.0, 10.0)\n",
    "\n",
    "import nltk\n",
    "from nltk.corpus import stopwords\n",
    "from nltk.tokenize import RegexpTokenizer\n",
    "nltk.data.path.append(\"/Users/zexihan/Developer/nltk_data\")\n",
    "\n",
    "from sklearn.model_selection import train_test_split\n",
    "from sklearn.preprocessing import OneHotEncoder, StandardScaler\n",
    "from sklearn.feature_extraction.text import TfidfVectorizer\n",
    "from sklearn.decomposition import LatentDirichletAllocation"
   ]
  },
  {
   "cell_type": "markdown",
   "metadata": {},
   "source": [
    "## 1. Explore the data"
   ]
  },
  {
   "cell_type": "code",
   "execution_count": 2,
   "metadata": {},
   "outputs": [],
   "source": [
    "wine_reviews = pd.read_csv(\"wine-reviews/winemag-data-130k-v2.csv\")"
   ]
  },
  {
   "cell_type": "code",
   "execution_count": 3,
   "metadata": {},
   "outputs": [
    {
     "data": {
      "text/plain": [
       "(129971, 14)"
      ]
     },
     "execution_count": 3,
     "metadata": {},
     "output_type": "execute_result"
    }
   ],
   "source": [
    "wine_reviews.shape"
   ]
  },
  {
   "cell_type": "code",
   "execution_count": 4,
   "metadata": {},
   "outputs": [
    {
     "data": {
      "text/plain": [
       "Index(['Unnamed: 0', 'country', 'description', 'designation', 'points',\n",
       "       'price', 'province', 'region_1', 'region_2', 'taster_name',\n",
       "       'taster_twitter_handle', 'title', 'variety', 'winery'],\n",
       "      dtype='object')"
      ]
     },
     "execution_count": 4,
     "metadata": {},
     "output_type": "execute_result"
    }
   ],
   "source": [
    "wine_reviews.columns"
   ]
  },
  {
   "cell_type": "markdown",
   "metadata": {},
   "source": [
    "Categorical:\n",
    "- country: The country that the wine is from\n",
    "- designation: The vineyard within the winery where the grapes that made the wine are from\n",
    "- province: The province or state that the wine is from\n",
    "- region_1: The wine growing area in a province or state (ie Napa)\n",
    "- region_2: Sometimes there are more specific regions specified within a wine growing area (ie Rutherford inside the Napa Valley), but this value can sometimes be blank\n",
    "- variety: The type of grapes used to make the wine (ie Pinot Noir)\n",
    "- winery: The winery that made the wine\n",
    "- three new attributes: title, taster_name, taster_twitter_handle\n",
    "\n",
    "Quantitative\n",
    "- points: The number of points WineEnthusiast rated the wine on a scale of 1-100 (though they say they only post reviews for wines that score >=80)\n",
    "- price: The cost for a bottle of the wine\n",
    "\n",
    "Text description\n",
    "- description: A few sentences from a sommelier describing the wine's taste, smell, look, feel, etc."
   ]
  },
  {
   "cell_type": "code",
   "execution_count": 5,
   "metadata": {},
   "outputs": [
    {
     "data": {
      "text/html": [
       "<div>\n",
       "<style scoped>\n",
       "    .dataframe tbody tr th:only-of-type {\n",
       "        vertical-align: middle;\n",
       "    }\n",
       "\n",
       "    .dataframe tbody tr th {\n",
       "        vertical-align: top;\n",
       "    }\n",
       "\n",
       "    .dataframe thead th {\n",
       "        text-align: right;\n",
       "    }\n",
       "</style>\n",
       "<table border=\"1\" class=\"dataframe\">\n",
       "  <thead>\n",
       "    <tr style=\"text-align: right;\">\n",
       "      <th></th>\n",
       "      <th>Unnamed: 0</th>\n",
       "      <th>country</th>\n",
       "      <th>description</th>\n",
       "      <th>designation</th>\n",
       "      <th>points</th>\n",
       "      <th>price</th>\n",
       "      <th>province</th>\n",
       "      <th>region_1</th>\n",
       "      <th>region_2</th>\n",
       "      <th>taster_name</th>\n",
       "      <th>taster_twitter_handle</th>\n",
       "      <th>title</th>\n",
       "      <th>variety</th>\n",
       "      <th>winery</th>\n",
       "    </tr>\n",
       "  </thead>\n",
       "  <tbody>\n",
       "    <tr>\n",
       "      <th>0</th>\n",
       "      <td>0</td>\n",
       "      <td>Italy</td>\n",
       "      <td>Aromas include tropical fruit, broom, brimston...</td>\n",
       "      <td>Vulkà Bianco</td>\n",
       "      <td>87</td>\n",
       "      <td>NaN</td>\n",
       "      <td>Sicily &amp; Sardinia</td>\n",
       "      <td>Etna</td>\n",
       "      <td>NaN</td>\n",
       "      <td>Kerin O’Keefe</td>\n",
       "      <td>@kerinokeefe</td>\n",
       "      <td>Nicosia 2013 Vulkà Bianco  (Etna)</td>\n",
       "      <td>White Blend</td>\n",
       "      <td>Nicosia</td>\n",
       "    </tr>\n",
       "    <tr>\n",
       "      <th>1</th>\n",
       "      <td>1</td>\n",
       "      <td>Portugal</td>\n",
       "      <td>This is ripe and fruity, a wine that is smooth...</td>\n",
       "      <td>Avidagos</td>\n",
       "      <td>87</td>\n",
       "      <td>15.0</td>\n",
       "      <td>Douro</td>\n",
       "      <td>NaN</td>\n",
       "      <td>NaN</td>\n",
       "      <td>Roger Voss</td>\n",
       "      <td>@vossroger</td>\n",
       "      <td>Quinta dos Avidagos 2011 Avidagos Red (Douro)</td>\n",
       "      <td>Portuguese Red</td>\n",
       "      <td>Quinta dos Avidagos</td>\n",
       "    </tr>\n",
       "    <tr>\n",
       "      <th>2</th>\n",
       "      <td>2</td>\n",
       "      <td>US</td>\n",
       "      <td>Tart and snappy, the flavors of lime flesh and...</td>\n",
       "      <td>NaN</td>\n",
       "      <td>87</td>\n",
       "      <td>14.0</td>\n",
       "      <td>Oregon</td>\n",
       "      <td>Willamette Valley</td>\n",
       "      <td>Willamette Valley</td>\n",
       "      <td>Paul Gregutt</td>\n",
       "      <td>@paulgwine</td>\n",
       "      <td>Rainstorm 2013 Pinot Gris (Willamette Valley)</td>\n",
       "      <td>Pinot Gris</td>\n",
       "      <td>Rainstorm</td>\n",
       "    </tr>\n",
       "    <tr>\n",
       "      <th>3</th>\n",
       "      <td>3</td>\n",
       "      <td>US</td>\n",
       "      <td>Pineapple rind, lemon pith and orange blossom ...</td>\n",
       "      <td>Reserve Late Harvest</td>\n",
       "      <td>87</td>\n",
       "      <td>13.0</td>\n",
       "      <td>Michigan</td>\n",
       "      <td>Lake Michigan Shore</td>\n",
       "      <td>NaN</td>\n",
       "      <td>Alexander Peartree</td>\n",
       "      <td>NaN</td>\n",
       "      <td>St. Julian 2013 Reserve Late Harvest Riesling ...</td>\n",
       "      <td>Riesling</td>\n",
       "      <td>St. Julian</td>\n",
       "    </tr>\n",
       "    <tr>\n",
       "      <th>4</th>\n",
       "      <td>4</td>\n",
       "      <td>US</td>\n",
       "      <td>Much like the regular bottling from 2012, this...</td>\n",
       "      <td>Vintner's Reserve Wild Child Block</td>\n",
       "      <td>87</td>\n",
       "      <td>65.0</td>\n",
       "      <td>Oregon</td>\n",
       "      <td>Willamette Valley</td>\n",
       "      <td>Willamette Valley</td>\n",
       "      <td>Paul Gregutt</td>\n",
       "      <td>@paulgwine</td>\n",
       "      <td>Sweet Cheeks 2012 Vintner's Reserve Wild Child...</td>\n",
       "      <td>Pinot Noir</td>\n",
       "      <td>Sweet Cheeks</td>\n",
       "    </tr>\n",
       "  </tbody>\n",
       "</table>\n",
       "</div>"
      ],
      "text/plain": [
       "   Unnamed: 0   country                                        description  \\\n",
       "0           0     Italy  Aromas include tropical fruit, broom, brimston...   \n",
       "1           1  Portugal  This is ripe and fruity, a wine that is smooth...   \n",
       "2           2        US  Tart and snappy, the flavors of lime flesh and...   \n",
       "3           3        US  Pineapple rind, lemon pith and orange blossom ...   \n",
       "4           4        US  Much like the regular bottling from 2012, this...   \n",
       "\n",
       "                          designation  points  price           province  \\\n",
       "0                        Vulkà Bianco      87    NaN  Sicily & Sardinia   \n",
       "1                            Avidagos      87   15.0              Douro   \n",
       "2                                 NaN      87   14.0             Oregon   \n",
       "3                Reserve Late Harvest      87   13.0           Michigan   \n",
       "4  Vintner's Reserve Wild Child Block      87   65.0             Oregon   \n",
       "\n",
       "              region_1           region_2         taster_name  \\\n",
       "0                 Etna                NaN       Kerin O’Keefe   \n",
       "1                  NaN                NaN          Roger Voss   \n",
       "2    Willamette Valley  Willamette Valley        Paul Gregutt   \n",
       "3  Lake Michigan Shore                NaN  Alexander Peartree   \n",
       "4    Willamette Valley  Willamette Valley        Paul Gregutt   \n",
       "\n",
       "  taster_twitter_handle                                              title  \\\n",
       "0          @kerinokeefe                  Nicosia 2013 Vulkà Bianco  (Etna)   \n",
       "1            @vossroger      Quinta dos Avidagos 2011 Avidagos Red (Douro)   \n",
       "2           @paulgwine       Rainstorm 2013 Pinot Gris (Willamette Valley)   \n",
       "3                   NaN  St. Julian 2013 Reserve Late Harvest Riesling ...   \n",
       "4           @paulgwine   Sweet Cheeks 2012 Vintner's Reserve Wild Child...   \n",
       "\n",
       "          variety               winery  \n",
       "0     White Blend              Nicosia  \n",
       "1  Portuguese Red  Quinta dos Avidagos  \n",
       "2      Pinot Gris            Rainstorm  \n",
       "3        Riesling           St. Julian  \n",
       "4      Pinot Noir         Sweet Cheeks  "
      ]
     },
     "execution_count": 5,
     "metadata": {},
     "output_type": "execute_result"
    }
   ],
   "source": [
    "wine_reviews.head()"
   ]
  },
  {
   "cell_type": "markdown",
   "metadata": {},
   "source": [
    "### Visualization 1-2"
   ]
  },
  {
   "cell_type": "code",
   "execution_count": 6,
   "metadata": {},
   "outputs": [
    {
     "data": {
      "text/plain": [
       "Text(0, 0.5, 'Frequency')"
      ]
     },
     "execution_count": 6,
     "metadata": {},
     "output_type": "execute_result"
    },
    {
     "data": {
      "image/png": "[encoded data removed]",
      "text/plain": [
       "<Figure size 432x288 with 1 Axes>"
      ]
     },
     "metadata": {
      "image/png": {
       "height": 277,
       "width": 403
      },
      "needs_background": "light"
     },
     "output_type": "display_data"
    }
   ],
   "source": [
    "# distribution of the points\n",
    "plt.hist(wine_reviews[\"points\"], bins=20)\n",
    "plt.title(\"Histogram of Points Wine Rating\")\n",
    "plt.xlabel(\"Points Wine Rating\")\n",
    "plt.ylabel(\"Frequency\")"
   ]
  },
  {
   "cell_type": "code",
   "execution_count": null,
   "metadata": {},
   "outputs": [],
   "source": []
  },
  {
   "cell_type": "code",
   "execution_count": 7,
   "metadata": {},
   "outputs": [
    {
     "data": {
      "text/plain": [
       "(708,)"
      ]
     },
     "execution_count": 7,
     "metadata": {},
     "output_type": "execute_result"
    }
   ],
   "source": [
    "# variety\n",
    "wine_reviews[\"variety\"].unique().shape"
   ]
  },
  {
   "cell_type": "code",
   "execution_count": 8,
   "metadata": {},
   "outputs": [
    {
     "data": {
      "text/plain": [
       "Text(0, 0.5, 'Frequency')"
      ]
     },
     "execution_count": 8,
     "metadata": {},
     "output_type": "execute_result"
    },
    {
     "data": {
      "image/png": "[encoded data removed]",
      "text/plain": [
       "<Figure size 432x288 with 1 Axes>"
      ]
     },
     "metadata": {
      "image/png": {
       "height": 415,
       "width": 451
      },
      "needs_background": "light"
     },
     "output_type": "display_data"
    }
   ],
   "source": [
    "variety_count = pd.DataFrame({'count' : wine_reviews.groupby(\"variety\").size()}) \\\n",
    "                .reset_index() \\\n",
    "                .sort_values(\"count\", ascending=False) \\\n",
    "                .head(50)\n",
    "plt.bar(variety_count[\"variety\"], variety_count[\"count\"])\n",
    "plt.xticks(rotation='vertical')\n",
    "plt.title(\"Top 50 Frequent Types of Grapes Used to Make the Wine in the Dataset\")\n",
    "plt.xlabel(\"Type of Grapes\")\n",
    "plt.ylabel(\"Frequency\")"
   ]
  },
  {
   "cell_type": "markdown",
   "metadata": {},
   "source": [
    "## 2. Split the dataset randomly into train/test (80/20)"
   ]
  },
  {
   "cell_type": "code",
   "execution_count": 9,
   "metadata": {},
   "outputs": [],
   "source": [
    "wine_reviews = wine_reviews.sample(10000)"
   ]
  },
  {
   "cell_type": "code",
   "execution_count": 10,
   "metadata": {},
   "outputs": [],
   "source": [
    "X = wine_reviews.drop(\"points\", axis=1)\n",
    "y = wine_reviews[\"points\"]\n",
    "X_train, X_test, y_train, y_test = train_test_split(X, y, \\\n",
    "                                                    test_size=0.2, random_state=42)"
   ]
  },
  {
   "cell_type": "code",
   "execution_count": 11,
   "metadata": {
    "scrolled": true
   },
   "outputs": [
    {
     "data": {
      "text/plain": [
       "((8000, 13), (2000, 13), (8000,), (2000,))"
      ]
     },
     "execution_count": 11,
     "metadata": {},
     "output_type": "execute_result"
    }
   ],
   "source": [
    "X_train.shape, X_test.shape, y_train.shape, y_test.shape"
   ]
  },
  {
   "cell_type": "markdown",
   "metadata": {},
   "source": [
    "## 3. Preprocess the data"
   ]
  },
  {
   "cell_type": "markdown",
   "metadata": {},
   "source": [
    "### a. one-hot encoding for categorical features"
   ]
  },
  {
   "cell_type": "code",
   "execution_count": 12,
   "metadata": {
    "scrolled": false
   },
   "outputs": [
    {
     "name": "stdout",
     "output_type": "stream",
     "text": [
      "Number of levels of categorical variables\n",
      "country: 35\n",
      "designation: 5362\n",
      "province: 259\n",
      "region_1: 728\n",
      "region_2: 18\n",
      "variety: 353\n",
      "winery: 5531\n",
      "title: 9927\n",
      "taster_name: 19\n",
      "taster_twitter_handle: 15\n"
     ]
    }
   ],
   "source": [
    "print(\"Number of levels of categorical variables\")\n",
    "print(\"country: {}\".format(wine_reviews[\"country\"].unique().shape[0]))\n",
    "print(\"designation: {}\".format(wine_reviews[\"designation\"].unique().shape[0]))\n",
    "print(\"province: {}\".format(wine_reviews[\"province\"].unique().shape[0]))\n",
    "print(\"region_1: {}\".format(wine_reviews[\"region_1\"].unique().shape[0]))\n",
    "print(\"region_2: {}\".format(wine_reviews[\"region_2\"].unique().shape[0]))\n",
    "print(\"variety: {}\".format(wine_reviews[\"variety\"].unique().shape[0]))\n",
    "print(\"winery: {}\".format(wine_reviews[\"winery\"].unique().shape[0]))\n",
    "print(\"title: {}\".format(wine_reviews[\"title\"].unique().shape[0]))\n",
    "print(\"taster_name: {}\".format(wine_reviews[\"taster_name\"].unique().shape[0]))\n",
    "print(\"taster_twitter_handle: {}\".format(wine_reviews[\"taster_twitter_handle\"].unique().shape[0]))"
   ]
  },
  {
   "cell_type": "markdown",
   "metadata": {},
   "source": [
    "#### Process the variables with a large number of levels: designation, winery"
   ]
  },
  {
   "cell_type": "code",
   "execution_count": 13,
   "metadata": {},
   "outputs": [],
   "source": [
    "# replace the tail categories of the categorical variable with 'Others'\n",
    "def reduce(df_train, df_test, col_name, dimension):\n",
    "    top_categories = set(pd.DataFrame({'count' : df_train.groupby(col_name).size()}) \\\n",
    "                        .reset_index() \\\n",
    "                        .sort_values(\"count\", ascending=False) \\\n",
    "                        .head(dimension)[col_name])\n",
    "    \n",
    "    df_train[\"reduced_\" + col_name] = df_train[col_name]\n",
    "    df_train.loc[~df_train[\"reduced_\" + col_name].isin(top_categories), \"reduced_\" + col_name] = \"Others\"\n",
    "    df_train[\"reduced_\" + col_name].unique().shape[0]\n",
    "    \n",
    "    df_test[\"reduced_\" + col_name] = df_test[col_name]\n",
    "    df_test.loc[~df_test[\"reduced_\" + col_name].isin(top_categories), \"reduced_\" + col_name] = \"Others\"\n",
    "    df_test[\"reduced_\" + col_name].unique().shape[0]"
   ]
  },
  {
   "cell_type": "code",
   "execution_count": 14,
   "metadata": {},
   "outputs": [],
   "source": [
    "reduce(X_train, X_test, \"designation\", 100)\n",
    "reduce(X_train, X_test, \"winery\", 100)\n",
    "reduce(X_train, X_test, \"province\", 100)\n",
    "reduce(X_train, X_test, \"region_1\", 100)"
   ]
  },
  {
   "cell_type": "code",
   "execution_count": 15,
   "metadata": {
    "scrolled": true
   },
   "outputs": [
    {
     "data": {
      "text/plain": [
       "(Index(['Unnamed: 0', 'country', 'description', 'designation', 'price',\n",
       "        'province', 'region_1', 'region_2', 'taster_name',\n",
       "        'taster_twitter_handle', 'title', 'variety', 'winery',\n",
       "        'reduced_designation', 'reduced_winery', 'reduced_province',\n",
       "        'reduced_region_1'],\n",
       "       dtype='object'),\n",
       " Index(['Unnamed: 0', 'country', 'description', 'designation', 'price',\n",
       "        'province', 'region_1', 'region_2', 'taster_name',\n",
       "        'taster_twitter_handle', 'title', 'variety', 'winery',\n",
       "        'reduced_designation', 'reduced_winery', 'reduced_province',\n",
       "        'reduced_region_1'],\n",
       "       dtype='object'))"
      ]
     },
     "execution_count": 15,
     "metadata": {},
     "output_type": "execute_result"
    }
   ],
   "source": [
    "X_train.columns, X_test.columns"
   ]
  },
  {
   "cell_type": "markdown",
   "metadata": {},
   "source": [
    "#### Encoding"
   ]
  },
  {
   "cell_type": "code",
   "execution_count": 16,
   "metadata": {},
   "outputs": [
    {
     "data": {
      "text/plain": [
       "((8000, 8), (2000, 8))"
      ]
     },
     "execution_count": 16,
     "metadata": {},
     "output_type": "execute_result"
    }
   ],
   "source": [
    "X_train_cat_label = X_train[[\"country\", \"reduced_province\", \"reduced_region_1\", \"region_2\", \"taster_name\", \\\n",
    "                 \"variety\", \"reduced_designation\", \"reduced_winery\"]].astype(str)\n",
    "X_train_cat_label.fillna(\"Others\")\n",
    "\n",
    "X_test_cat_label = X_test[[\"country\", \"reduced_province\", \"reduced_region_1\", \"region_2\", \"taster_name\", \\\n",
    "                 \"variety\", \"reduced_designation\", \"reduced_winery\"]].astype(str)\n",
    "X_test_cat_label.fillna(\"Others\")\n",
    "\n",
    "X_train_cat_label.shape, X_test_cat_label.shape"
   ]
  },
  {
   "cell_type": "code",
   "execution_count": 17,
   "metadata": {},
   "outputs": [
    {
     "data": {
      "text/plain": [
       "((8000, 829), (2000, 829))"
      ]
     },
     "execution_count": 17,
     "metadata": {},
     "output_type": "execute_result"
    }
   ],
   "source": [
    "enc = OneHotEncoder()\n",
    "X_temp = pd.concat([X_train_cat_label, X_test_cat_label], ignore_index=True, sort=False)\n",
    "enc.fit(X_temp)\n",
    "X_train_cat_onehot = enc.transform(X_train_cat_label).toarray()\n",
    "X_test_cat_onehot = enc.transform(X_test_cat_label).toarray()\n",
    "X_train_cat_onehot.shape, X_test_cat_onehot.shape"
   ]
  },
  {
   "cell_type": "markdown",
   "metadata": {},
   "source": [
    "### b. standardization for continuous features"
   ]
  },
  {
   "cell_type": "code",
   "execution_count": 18,
   "metadata": {},
   "outputs": [],
   "source": [
    "X_train.fillna(X_train.mean(), inplace=True)\n",
    "X_test.fillna(X_train.mean(), inplace=True)\n",
    "\n",
    "X_train_con = X_train[[\"price\"]]\n",
    "X_test_con = X_test[[\"price\"]]\n",
    "scaler = StandardScaler()\n",
    "scaler.fit(X_train_con)\n",
    "X_train_con_scaled = scaler.transform(X_train_con)\n",
    "X_test_con_scaled = scaler.transform(X_test_con)"
   ]
  },
  {
   "cell_type": "markdown",
   "metadata": {},
   "source": [
    "### c. TF-IDF matrices and LDA for the text description"
   ]
  },
  {
   "cell_type": "markdown",
   "metadata": {},
   "source": [
    "#### clean text"
   ]
  },
  {
   "cell_type": "code",
   "execution_count": 19,
   "metadata": {},
   "outputs": [
    {
     "data": {
      "text/plain": [
       "68607     Vintner Elena Walch offers this fine Sauvignon...\n",
       "25074     Although drinking this wine while fishing woul...\n",
       "89291     Lovely, fresh and lightly sparkling, this vibr...\n",
       "16294     Simple brown sugar scents make for a monotone ...\n",
       "115156    Wonderfully pure notes of mandarin and tart ap...\n",
       "Name: description, dtype: object"
      ]
     },
     "execution_count": 19,
     "metadata": {},
     "output_type": "execute_result"
    }
   ],
   "source": [
    "X_train[\"description\"].head()"
   ]
  },
  {
   "cell_type": "code",
   "execution_count": 20,
   "metadata": {},
   "outputs": [],
   "source": [
    "def clean_text(df): \n",
    "    X_description = []\n",
    "    for i, description in enumerate(df[\"description\"]):\n",
    "        description = description.lower()\n",
    "        tokenizer = RegexpTokenizer(r'\\w+')\n",
    "        word_tokens = tokenizer.tokenize(description) \n",
    "        filtered_description = [w for w in word_tokens if not w in stopwords.words('english')]\n",
    "        X_description.append(\" \".join(filtered_description))\n",
    "        if i % 100 == 0:\n",
    "            print(\"Progress: {}\".format(i), end='\\r', flush=True)\n",
    "    return X_description"
   ]
  },
  {
   "cell_type": "code",
   "execution_count": 21,
   "metadata": {},
   "outputs": [
    {
     "name": "stdout",
     "output_type": "stream",
     "text": [
      "Progress: 1900\r"
     ]
    }
   ],
   "source": [
    "X_train_description = clean_text(X_train)\n",
    "X_test_description = clean_text(X_test)"
   ]
  },
  {
   "cell_type": "markdown",
   "metadata": {},
   "source": [
    "#### TF-IDF and LDA"
   ]
  },
  {
   "cell_type": "code",
   "execution_count": 22,
   "metadata": {},
   "outputs": [
    {
     "data": {
      "text/plain": [
       "((8000, 10488), (2000, 10488))"
      ]
     },
     "execution_count": 22,
     "metadata": {},
     "output_type": "execute_result"
    }
   ],
   "source": [
    "tvec = TfidfVectorizer()\n",
    "tvec.fit(X_train_description)\n",
    "X_train_description_tvec = tvec.transform(X_train_description)\n",
    "X_test_description_tvec = tvec.transform(X_test_description)\n",
    "X_train_description_tvec.shape, X_test_description_tvec.shape"
   ]
  },
  {
   "cell_type": "code",
   "execution_count": 23,
   "metadata": {},
   "outputs": [
    {
     "data": {
      "text/plain": [
       "((8000, 20), (2000, 20))"
      ]
     },
     "execution_count": 23,
     "metadata": {},
     "output_type": "execute_result"
    }
   ],
   "source": [
    "lda = LatentDirichletAllocation(n_components=20, random_state=0)\n",
    "lda.fit(X_train_description_tvec)\n",
    "X_train_description_tvec_lda = lda.transform(X_train_description_tvec) \n",
    "X_test_description_tvec_lda = lda.transform(X_test_description_tvec) \n",
    "X_train_description_tvec_lda.shape, X_test_description_tvec_lda.shape"
   ]
  },
  {
   "cell_type": "markdown",
   "metadata": {},
   "source": [
    "### Merge the preprocessed features"
   ]
  },
  {
   "cell_type": "code",
   "execution_count": 24,
   "metadata": {},
   "outputs": [
    {
     "data": {
      "text/plain": [
       "((8000, 829), (8000, 1), (8000, 20))"
      ]
     },
     "execution_count": 24,
     "metadata": {},
     "output_type": "execute_result"
    }
   ],
   "source": [
    "X_train_cat_onehot.shape, X_train_con_scaled.shape, X_train_description_tvec_lda.shape"
   ]
  },
  {
   "cell_type": "code",
   "execution_count": 25,
   "metadata": {},
   "outputs": [
    {
     "data": {
      "text/plain": [
       "((2000, 829), (2000, 1), (2000, 20))"
      ]
     },
     "execution_count": 25,
     "metadata": {},
     "output_type": "execute_result"
    }
   ],
   "source": [
    "X_test_cat_onehot.shape, X_test_con_scaled.shape, X_test_description_tvec_lda.shape"
   ]
  },
  {
   "cell_type": "code",
   "execution_count": 26,
   "metadata": {},
   "outputs": [
    {
     "data": {
      "text/plain": [
       "((8000, 850), (2000, 850))"
      ]
     },
     "execution_count": 26,
     "metadata": {},
     "output_type": "execute_result"
    }
   ],
   "source": [
    "X_train_preprocessed = np.concatenate((X_train_cat_onehot, X_train_con_scaled, \\\n",
    "                                       X_train_description_tvec_lda), axis=1)\n",
    "X_test_preprocessed = np.concatenate((X_test_cat_onehot, X_test_con_scaled, \\\n",
    "                                      X_test_description_tvec_lda), axis=1)\n",
    "X_train_preprocessed.shape, X_test_preprocessed.shape"
   ]
  },
  {
   "cell_type": "code",
   "execution_count": 58,
   "metadata": {},
   "outputs": [
    {
     "data": {
      "text/plain": [
       "850"
      ]
     },
     "execution_count": 58,
     "metadata": {},
     "output_type": "execute_result"
    }
   ],
   "source": [
    "variable_names = \\\n",
    "[\"country_\" + str(x) for x in range(35)] + \\\n",
    "[\"province_\" + str(x) for x in range(101)] + \\\n",
    "[\"region_1_\" + str(x) for x in range(101)] + \\\n",
    "[\"region_2_\" + str(x) for x in range(18)] + \\\n",
    "[\"taster_name_\" + str(x) for x in range(19)] + \\\n",
    "[\"variety_\" + str(x) for x in range(353)] + \\\n",
    "[\"designation_\" + str(x) for x in range(101)] + \\\n",
    "[\"winery_\" + str(x) for x in range(101)] + \\\n",
    "[\"price\"] + \\\n",
    "[\"description_\" + str(x) for x in range(20)]\n",
    "len(variable_names)"
   ]
  },
  {
   "cell_type": "markdown",
   "metadata": {},
   "source": [
    "## 4 Train models"
   ]
  },
  {
   "cell_type": "code",
   "execution_count": 44,
   "metadata": {},
   "outputs": [],
   "source": [
    "from sklearn.linear_model import Ridge\n",
    "from sklearn.ensemble import BaggingRegressor, GradientBoostingRegressor\n",
    "from sklearn.metrics import mean_squared_error, make_scorer\n",
    "import dask_searchcv as dcv\n",
    "from dask.diagnostics import ProgressBar"
   ]
  },
  {
   "cell_type": "markdown",
   "metadata": {},
   "source": [
    "### Ridge regression"
   ]
  },
  {
   "cell_type": "code",
   "execution_count": 45,
   "metadata": {},
   "outputs": [
    {
     "name": "stdout",
     "output_type": "stream",
     "text": [
      "[########################################] | 100% Completed |  5.4s\n"
     ]
    }
   ],
   "source": [
    "parameters = {'alpha': [0.05, 0.01, 0.02, 0.05, 0.1]}\n",
    "mse = make_scorer(mean_squared_error)\n",
    "ridge = Ridge()\n",
    "ridge_regressor = dcv.GridSearchCV(estimator=ridge, param_grid=parameters, scoring=mse, \\\n",
    "                                   cv=10, return_train_score=True)\n",
    "with ProgressBar():\n",
    "    ridge_regressor.fit(X_train_preprocessed, y_train)"
   ]
  },
  {
   "cell_type": "code",
   "execution_count": 46,
   "metadata": {},
   "outputs": [
    {
     "data": {
      "text/plain": [
       "(6.224221596013711, {'alpha': 0.01})"
      ]
     },
     "execution_count": 46,
     "metadata": {},
     "output_type": "execute_result"
    }
   ],
   "source": [
    "ridge_regressor.best_score_, ridge_regressor.best_params_"
   ]
  },
  {
   "cell_type": "code",
   "execution_count": 60,
   "metadata": {},
   "outputs": [],
   "source": [
    "ridge_results = pd.DataFrame(ridge_regressor.cv_results_)"
   ]
  },
  {
   "cell_type": "markdown",
   "metadata": {},
   "source": [
    "### Bagging"
   ]
  },
  {
   "cell_type": "code",
   "execution_count": 52,
   "metadata": {},
   "outputs": [
    {
     "name": "stdout",
     "output_type": "stream",
     "text": [
      "[########################################] | 100% Completed | 39min 14.6s\n"
     ]
    }
   ],
   "source": [
    "parameters = {'n_estimators': [25, 50, 100], \\\n",
    "              'max_samples': [0.8, 0.9, 1.0], \\\n",
    "              'max_features': [0.8, 0.9, 1.0]}\n",
    "mse = make_scorer(mean_squared_error)\n",
    "bagging = BaggingRegressor()\n",
    "bagging_regressor = dcv.GridSearchCV(estimator=bagging, param_grid=parameters, scoring=mse, \\\n",
    "                                     cv=10, return_train_score=True, n_jobs=4)\n",
    "with ProgressBar():\n",
    "    bagging_regressor.fit(X_train_preprocessed, y_train)"
   ]
  },
  {
   "cell_type": "code",
   "execution_count": 53,
   "metadata": {},
   "outputs": [
    {
     "data": {
      "text/plain": [
       "(4.3382474, {'max_features': 1.0, 'max_samples': 0.8, 'n_estimators': 25})"
      ]
     },
     "execution_count": 53,
     "metadata": {},
     "output_type": "execute_result"
    }
   ],
   "source": [
    "bagging_regressor.best_score_, bagging_regressor.best_params_"
   ]
  },
  {
   "cell_type": "code",
   "execution_count": 61,
   "metadata": {},
   "outputs": [],
   "source": [
    "bagging_results = pd.DataFrame(bagging_regressor.cv_results_)"
   ]
  },
  {
   "cell_type": "markdown",
   "metadata": {},
   "source": [
    "### Gradient boosting"
   ]
  },
  {
   "cell_type": "code",
   "execution_count": 55,
   "metadata": {},
   "outputs": [
    {
     "name": "stdout",
     "output_type": "stream",
     "text": [
      "[########################################] | 100% Completed | 27min 19.8s\n"
     ]
    }
   ],
   "source": [
    "parameters = {'learning_rate': [0.05, 0.1, 0.2], \\\n",
    "              'n_estimators': [25, 50, 100], \\\n",
    "              'subsample': [0.8, 0.9, 1.0]}\n",
    "mse = make_scorer(mean_squared_error)\n",
    "gb = GradientBoostingRegressor()\n",
    "gb_regressor = dcv.GridSearchCV(estimator=gb, param_grid=parameters, scoring=mse, \\\n",
    "                                cv=10, return_train_score=True)\n",
    "with ProgressBar():\n",
    "    gb_regressor.fit(X_train_preprocessed, y_train)"
   ]
  },
  {
   "cell_type": "code",
   "execution_count": 56,
   "metadata": {},
   "outputs": [
    {
     "data": {
      "text/plain": [
       "(5.343273900704527,\n",
       " {'learning_rate': 0.05, 'n_estimators': 25, 'subsample': 1.0})"
      ]
     },
     "execution_count": 56,
     "metadata": {},
     "output_type": "execute_result"
    }
   ],
   "source": [
    "gb_regressor.best_score_, gb_regressor.best_params_"
   ]
  },
  {
   "cell_type": "code",
   "execution_count": 62,
   "metadata": {},
   "outputs": [],
   "source": [
    "gb_results = pd.DataFrame(gb_regressor.cv_results_)"
   ]
  },
  {
   "cell_type": "markdown",
   "metadata": {},
   "source": [
    "## 5 Visualization 3\n",
    "Comparing the performance of the 3 different models with their optimal hyperparameters."
   ]
  },
  {
   "cell_type": "code",
   "execution_count": null,
   "metadata": {},
   "outputs": [],
   "source": []
  },
  {
   "cell_type": "code",
   "execution_count": null,
   "metadata": {},
   "outputs": [],
   "source": []
  },
  {
   "cell_type": "markdown",
   "metadata": {},
   "source": [
    "## 6 Visualization 4\n",
    "Showing the top features learned by the best performing model."
   ]
  },
  {
   "cell_type": "code",
   "execution_count": null,
   "metadata": {},
   "outputs": [],
   "source": []
  },
  {
   "cell_type": "code",
   "execution_count": null,
   "metadata": {},
   "outputs": [],
   "source": []
  }
 ],
 "metadata": {
  "kernelspec": {
   "display_name": "Python 3",
   "language": "python",
   "name": "python3"
  },
  "language_info": {
   "codemirror_mode": {
    "name": "ipython",
    "version": 3
   },
   "file_extension": ".py",
   "mimetype": "text/x-python",
   "name": "python",
   "nbconvert_exporter": "python",
   "pygments_lexer": "ipython3",
   "version": "3.6.7"
  }
 },
 "nbformat": 4,
 "nbformat_minor": 2
}
