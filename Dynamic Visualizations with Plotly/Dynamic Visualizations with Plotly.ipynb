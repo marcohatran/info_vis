{
 "cells": [
  {
   "cell_type": "markdown",
   "metadata": {},
   "source": [
    "# Dynamic Visualizations with Plotly\n",
    "## Zexi Han"
   ]
  },
  {
   "cell_type": "code",
   "execution_count": 1,
   "metadata": {},
   "outputs": [],
   "source": [
    "import pandas as pd\n",
    "import numpy as np\n",
    "\n",
    "import plotly.plotly as py\n",
    "import plotly.graph_objs as go\n",
    "import plotly\n",
    "import cufflinks\n",
    "plotly.tools.set_credentials_file(username='zexihan', api_key='YzQVrnP4docHXcWDujIc')"
   ]
  },
  {
   "cell_type": "code",
   "execution_count": 2,
   "metadata": {},
   "outputs": [],
   "source": [
    "prices = pd.read_csv(\"prices.csv\")"
   ]
  },
  {
   "cell_type": "code",
   "execution_count": 3,
   "metadata": {},
   "outputs": [
    {
     "data": {
      "text/html": [
       "<div>\n",
       "<style scoped>\n",
       "    .dataframe tbody tr th:only-of-type {\n",
       "        vertical-align: middle;\n",
       "    }\n",
       "\n",
       "    .dataframe tbody tr th {\n",
       "        vertical-align: top;\n",
       "    }\n",
       "\n",
       "    .dataframe thead th {\n",
       "        text-align: right;\n",
       "    }\n",
       "</style>\n",
       "<table border=\"1\" class=\"dataframe\">\n",
       "  <thead>\n",
       "    <tr style=\"text-align: right;\">\n",
       "      <th></th>\n",
       "      <th>date</th>\n",
       "      <th>symbol</th>\n",
       "      <th>open</th>\n",
       "      <th>close</th>\n",
       "      <th>low</th>\n",
       "      <th>high</th>\n",
       "      <th>volume</th>\n",
       "    </tr>\n",
       "  </thead>\n",
       "  <tbody>\n",
       "    <tr>\n",
       "      <th>0</th>\n",
       "      <td>2016-01-05 00:00:00</td>\n",
       "      <td>WLTW</td>\n",
       "      <td>123.430000</td>\n",
       "      <td>125.839996</td>\n",
       "      <td>122.309998</td>\n",
       "      <td>126.250000</td>\n",
       "      <td>2163600.0</td>\n",
       "    </tr>\n",
       "    <tr>\n",
       "      <th>1</th>\n",
       "      <td>2016-01-06 00:00:00</td>\n",
       "      <td>WLTW</td>\n",
       "      <td>125.239998</td>\n",
       "      <td>119.980003</td>\n",
       "      <td>119.940002</td>\n",
       "      <td>125.540001</td>\n",
       "      <td>2386400.0</td>\n",
       "    </tr>\n",
       "    <tr>\n",
       "      <th>2</th>\n",
       "      <td>2016-01-07 00:00:00</td>\n",
       "      <td>WLTW</td>\n",
       "      <td>116.379997</td>\n",
       "      <td>114.949997</td>\n",
       "      <td>114.930000</td>\n",
       "      <td>119.739998</td>\n",
       "      <td>2489500.0</td>\n",
       "    </tr>\n",
       "    <tr>\n",
       "      <th>3</th>\n",
       "      <td>2016-01-08 00:00:00</td>\n",
       "      <td>WLTW</td>\n",
       "      <td>115.480003</td>\n",
       "      <td>116.620003</td>\n",
       "      <td>113.500000</td>\n",
       "      <td>117.440002</td>\n",
       "      <td>2006300.0</td>\n",
       "    </tr>\n",
       "    <tr>\n",
       "      <th>4</th>\n",
       "      <td>2016-01-11 00:00:00</td>\n",
       "      <td>WLTW</td>\n",
       "      <td>117.010002</td>\n",
       "      <td>114.970001</td>\n",
       "      <td>114.089996</td>\n",
       "      <td>117.330002</td>\n",
       "      <td>1408600.0</td>\n",
       "    </tr>\n",
       "  </tbody>\n",
       "</table>\n",
       "</div>"
      ],
      "text/plain": [
       "                  date symbol        open       close         low        high  \\\n",
       "0  2016-01-05 00:00:00   WLTW  123.430000  125.839996  122.309998  126.250000   \n",
       "1  2016-01-06 00:00:00   WLTW  125.239998  119.980003  119.940002  125.540001   \n",
       "2  2016-01-07 00:00:00   WLTW  116.379997  114.949997  114.930000  119.739998   \n",
       "3  2016-01-08 00:00:00   WLTW  115.480003  116.620003  113.500000  117.440002   \n",
       "4  2016-01-11 00:00:00   WLTW  117.010002  114.970001  114.089996  117.330002   \n",
       "\n",
       "      volume  \n",
       "0  2163600.0  \n",
       "1  2386400.0  \n",
       "2  2489500.0  \n",
       "3  2006300.0  \n",
       "4  1408600.0  "
      ]
     },
     "execution_count": 3,
     "metadata": {},
     "output_type": "execute_result"
    }
   ],
   "source": [
    "prices.head()"
   ]
  },
  {
   "cell_type": "code",
   "execution_count": 4,
   "metadata": {},
   "outputs": [
    {
     "data": {
      "text/plain": [
       "(851264, 7)"
      ]
     },
     "execution_count": 4,
     "metadata": {},
     "output_type": "execute_result"
    }
   ],
   "source": [
    "prices.shape"
   ]
  },
  {
   "cell_type": "markdown",
   "metadata": {},
   "source": [
    "**Label the 7 columns in the dataset as key or value columns (see Munzner 2.6). Include\n",
    "this write-up in a markup cell. Write a couple of sentences justifying your choice.**"
   ]
  },
  {
   "cell_type": "markdown",
   "metadata": {},
   "source": [
    "A key attribute acts as an index that is used to look up value attributes. In prices dataset, \"date\" should be labeled as key column and other columns are labeled as value columns. Because the \"date\" column is an independent attribute and uniquely defines an obervation of the stock exchange in the dataset, while other columns are dependent on the \"date\" column."
   ]
  },
  {
   "cell_type": "markdown",
   "metadata": {},
   "source": [
    "**Come up with a task a user might be interested in performing with this dataset. (Refer to\n",
    "task abstraction from Visual Encoding lecture slides.) Write it in markup. ​You must specify your task using technical visualization terminology, not just a layman’s description.**"
   ]
  },
  {
   "cell_type": "markdown",
   "metadata": {},
   "source": [
    "Task: Please present how the stock's closing price of Google and Amazon change over time during 2010 - 2016. Is there any story that you can tell from it? Make your visualization interactive and dynamic if necessary."
   ]
  },
  {
   "cell_type": "markdown",
   "metadata": {},
   "source": [
    "**Choose two different, reasonable ways to encode the data that allow a user to perform the task you specified in the last step. Focus more on the lecture slides on Marks & Channels, and on Visual Encodings than making an interactive visualization in this step.**"
   ]
  },
  {
   "cell_type": "markdown",
   "metadata": {},
   "source": [
    "Line plot and area plot are two types of plot for visualizing time-series data like stock closing prices.\n",
    "1. Line plot encodes two attributes using both point mark and line mark with the vertical spatial position channel for the quantitative attribute of stock closing price and the horizontal spatial position channel for the categorical attribute of date. Each pair of consecutive point marks are connected with a line mark, the slope of which represents the change in price over date. Color channel is used to distinguish two different stocks.\n",
    "2. Area plot encodes two attributes using line mark and area mark. The line is plotted the same as above and the area is area between the line and the x-axis. Besides the change in price over date encoded with the slope of the line, the value of the stock within a certain date period is encoded using area channel. Color channel is also used."
   ]
  },
  {
   "cell_type": "markdown",
   "metadata": {},
   "source": [
    "**Create the two interactive visualizations. Make sure readers of the visualization understand what they are looking at, e.g., use sensible axes, labels, title, etc**"
   ]
  },
  {
   "cell_type": "code",
   "execution_count": 5,
   "metadata": {},
   "outputs": [],
   "source": [
    "prices_amzn = prices[prices[\"symbol\"] == \"AMZN\"]\n",
    "prices_googl = prices[prices[\"symbol\"] == \"GOOGL\"]\n",
    "prices_amzn[\"amzn_close\"] = prices_amzn[\"close\"]\n",
    "prices_googl[\"googl_close\"] = prices_googl[\"close\"]\n",
    "prices_amzn = prices_amzn[[\"date\", \"amzn_close\"]]\n",
    "prices_googl = prices_googl[[\"date\", \"googl_close\"]]"
   ]
  },
  {
   "cell_type": "code",
   "execution_count": 6,
   "metadata": {},
   "outputs": [],
   "source": [
    "df = prices_amzn.join(prices_googl.set_index('date'), on='date')\n",
    "df = df.set_index(\"date\")"
   ]
  },
  {
   "cell_type": "code",
   "execution_count": 9,
   "metadata": {},
   "outputs": [
    {
     "name": "stdout",
     "output_type": "stream",
     "text": [
      "High five! You successfully sent some data to your account on plotly. View your plot in your browser at https://plot.ly/~zexihan/0 or inside your plot.ly account where it is named 'Time Series with Rangeslider'\n"
     ]
    },
    {
     "data": {
      "text/html": [
       "<iframe id=\"igraph\" scrolling=\"no\" style=\"border:none;\" seamless=\"seamless\" src=\"https://plot.ly/~zexihan/0.embed\" height=\"525px\" width=\"100%\"></iframe>"
      ],
      "text/plain": [
       "<plotly.tools.PlotlyDisplay object>"
      ]
     },
     "execution_count": 9,
     "metadata": {},
     "output_type": "execute_result"
    }
   ],
   "source": [
    "trace_amzn = go.Scatter(\n",
    "    x=df.index,\n",
    "    y=df[\"amzn_close\"],\n",
    "    name = \"AMZN Close\",\n",
    "    line = dict(color = '#FF8E05'),\n",
    "    opacity = 0.8)\n",
    "\n",
    "trace_googl = go.Scatter(\n",
    "    x=df.index,\n",
    "    y=df[\"googl_close\"],\n",
    "    name = \"GOOGL Close\",\n",
    "    line = dict(color = '#397AF2'),\n",
    "    opacity = 0.8)\n",
    "\n",
    "data = [trace_amzn, trace_googl]\n",
    "\n",
    "layout = dict(\n",
    "    title='Time Series with Rangeslider',\n",
    "    xaxis=dict(\n",
    "        rangeselector=dict(\n",
    "            buttons=list([\n",
    "                dict(count=1,\n",
    "                     label='1m',\n",
    "                     step='month',\n",
    "                     stepmode='backward'),\n",
    "                dict(count=6,\n",
    "                     label='6m',\n",
    "                     step='month',\n",
    "                     stepmode='backward'),\n",
    "                dict(step='all')\n",
    "            ])\n",
    "        ),\n",
    "        rangeslider=dict(\n",
    "            visible = True\n",
    "        ),\n",
    "        type='date'\n",
    "    )\n",
    ")\n",
    "\n",
    "fig = dict(data=data, layout=layout)\n",
    "py.iplot(fig, filename = \"Time Series with Rangeslider\")"
   ]
  },
  {
   "cell_type": "markdown",
   "metadata": {},
   "source": [
    "To reveal the change of stock closing price over date, line plot is always the first choice in that the slope of the line channel mathematically encodes the change. The closing price line is increasing if it goes up from left to right (The slope is positive), and the line is decreasing if it goes down from left to right (The slope is negative).\n",
    "\n",
    "The plot presents how the stock's closing price of two leading tech companies Google and Amazon change over time during 2010 - 2016. Intreastingly, we see that the stock price of Amazon steadily increased over the entire period. But the stock of Google began with high level and it dropped sharpely in around 4 months past 2014.\n",
    "\n",
    "Range slider is added so that the user can see any period of time that the user is interested in. The view of the plot will zoom in to the selected range of time. It allows user to observe granularized change of stock closing price. As the task if for presentation, the user can show an entire view of the line plot at first to let audience have an overview of the data, and then let them focus on a certain period for telling an interesting story by zooming in. "
   ]
  },
  {
   "cell_type": "code",
   "execution_count": 8,
   "metadata": {},
   "outputs": [
    {
     "data": {
      "text/html": [
       "<iframe id=\"igraph\" scrolling=\"no\" style=\"border:none;\" seamless=\"seamless\" src=\"https://plot.ly/~zexihan/15.embed\" height=\"525px\" width=\"100%\"></iframe>"
      ],
      "text/plain": [
       "<plotly.tools.PlotlyDisplay object>"
      ]
     },
     "execution_count": 8,
     "metadata": {},
     "output_type": "execute_result"
    }
   ],
   "source": [
    "df.iplot(subplots=True, shape=(2,1), shared_xaxes=True, fill=True)"
   ]
  },
  {
   "cell_type": "markdown",
   "metadata": {},
   "source": [
    "Besides the function of line plot showing changes of stock price using slope of the line marks, the area plot also encodes the value of stock within a certain period using filled area channel. Separate subplots without overlapping are used for clearly presenting the difference between two stocks.\n",
    "\n",
    "We can clearly see that the stock value (area) of Google is twice as much as of Amazon from 2010 - 2014. But after Google's drop in 2014, the stock value of Amazon exceeded that of Google.\n",
    "\n",
    "Similar as above, range slider is added so that the user can see any period of time that the user is interested in. The view of the plot will zoom in to the selected range of time. It allows user to observe granularized amount of stock value. As the task if for presentation, the user can show an entire view of the line plot at first to let audience have an overview of the data, and then let them focus on a certain period for telling an interesting story by zooming in. "
   ]
  }
 ],
 "metadata": {
  "kernelspec": {
   "display_name": "Python 3",
   "language": "python",
   "name": "python3"
  },
  "language_info": {
   "codemirror_mode": {
    "name": "ipython",
    "version": 3
   },
   "file_extension": ".py",
   "mimetype": "text/x-python",
   "name": "python",
   "nbconvert_exporter": "python",
   "pygments_lexer": "ipython3",
   "version": "3.6.7"
  }
 },
 "nbformat": 4,
 "nbformat_minor": 2
}
